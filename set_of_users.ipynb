{
 "cells": [
  {
   "cell_type": "code",
   "execution_count": 11,
   "metadata": {
    "collapsed": false
   },
   "outputs": [
    {
     "name": "stdout",
     "output_type": "stream",
     "text": [
      "Number of unique users: 585\n"
     ]
    }
   ],
   "source": [
    "\"\"\"Code based on quizzes and exercises from Data Wrangling with MongoDB\"\"\"\n",
    "# Find out how many unique users have contributed to the map.\n",
    "import xml.etree.cElementTree as ET\n",
    "import pprint\n",
    "import re\n",
    "\n",
    "def get_user(element):\n",
    "    if 'uid' in element.attrib:\n",
    "        return element.attrib['uid']\n",
    "    else: # Elements without user id\n",
    "        return None\n",
    "\n",
    "def process_map(filename):\n",
    "    users = set()\n",
    "    for _, element in ET.iterparse(filename):\n",
    "        if element.tag == 'way':\n",
    "            if get_user(element) != None:\n",
    "                users.add(get_user(element))\n",
    "        elif element.tag == 'node':\n",
    "            if get_user(element) != None:\n",
    "                users.add(get_user(element))\n",
    "        elif element.tag == 'relation':\n",
    "            if get_user(element) != None:\n",
    "                users.add(get_user(element))\n",
    "    # Return a set of unique user IDs \n",
    "    return users\n",
    "\n",
    "def test():\n",
    "    users = process_map('vancouver_canada.osm')\n",
    "    #pprint.pprint(users)\n",
    "    print 'Number of unique users: ' + str(len(users)) \n",
    "\n",
    "if __name__ == \"__main__\":\n",
    "    test()"
   ]
  },
  {
   "cell_type": "code",
   "execution_count": null,
   "metadata": {
    "collapsed": true
   },
   "outputs": [],
   "source": []
  }
 ],
 "metadata": {
  "kernelspec": {
   "display_name": "Python 2",
   "language": "python",
   "name": "python2"
  },
  "language_info": {
   "codemirror_mode": {
    "name": "ipython",
    "version": 2
   },
   "file_extension": ".py",
   "mimetype": "text/x-python",
   "name": "python",
   "nbconvert_exporter": "python",
   "pygments_lexer": "ipython2",
   "version": "2.7.9"
  }
 },
 "nbformat": 4,
 "nbformat_minor": 0
}
